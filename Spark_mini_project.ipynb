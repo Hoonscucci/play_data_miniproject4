{
 "cells": [
  {
   "cell_type": "markdown",
   "id": "7706bb23-3be3-44d9-888e-ab6e912429ce",
   "metadata": {},
   "source": [
    "# 1.샘플 데이터 소개"
   ]
  },
  {
   "cell_type": "code",
   "execution_count": 80,
   "id": "ae0bd966-b83b-4026-bbbe-a84060104818",
   "metadata": {},
   "outputs": [],
   "source": [
    "import findspark\n",
    "findspark.find()\n",
    "\n",
    "from pyspark import SparkContext, SparkConf\n",
    "from pyspark.sql import SparkSession\n",
    "from pyspark.sql.functions import concat, col\n",
    "from pyspark.sql.types import IntegerType, StringType\n",
    "from pyspark.sql.functions import expr\n",
    "from pyspark.sql.functions import mean, stddev\n",
    "from pyspark.sql.functions import when\n",
    "\n",
    "\n",
    "\n",
    "spark = SparkSession.builder \\\n",
    "    .master(\"local\")\\\n",
    "    .appName(\"Spark MiniProject\")\\\n",
    "    .config(\"spark.sql.rep1.eagerEval.enabled\", True)\\\n",
    "    .getOrCreate()"
   ]
  },
  {
   "cell_type": "code",
   "execution_count": 9,
   "id": "e9329829-8770-4e76-8a18-d0ade0b8d950",
   "metadata": {},
   "outputs": [
    {
     "name": "stdout",
     "output_type": "stream",
     "text": [
      "+-------------+--------------------+----------------+-------------+----+--------+------------+------------+------------+----------+----------+-------+----------------+--------------+----------------+--------------+-----+----------+-----------+-----------+-----+-----+-----+-----+-----+-----+-----+-------+----+-------+----------+----------+----------+----------+----------+----------+----------+----------+----------+----------+----------+----------+----------+----------+----------+----------+----------+---------+---------+---------+---------+---------+---------+---------+---------+---------+-----------+-----------+---------------------------+----------------+------------------+-----------------------------+-----------+-----------------------+-----------+-----------+\n",
      "|      matchId|               puuid|    summonerName|summonerLevel| win|gameMode|gameDuration|teamPosition|championName|championId|champLevel|assists|firstBloodAssist|firstBloodKill|firstTowerAssist|firstTowerKill|kills|pentaKills|quadraKills|tripleKills|item0|item1|item2|item3|item4|item5|item6|defense|flex|offense|prim1_perk|prim1_var1|prim1_var2|prim1_var3|prim2_perk|prim2_var1|prim2_var2|prim2_var3|prim3_perk|prim3_var1|prim3_var2|prim3_var3|prim4_perk|prim4_var1|prim4_var2|prim4_var3|prim_style|sub1_perk|sub1_var1|sub1_var2|sub1_var3|sub2_perk|sub2_var1|sub2_var2|sub2_var3|sub_style|summoner1Id|summoner2Id|totalDamageDealtToChampions|totalDamageTaken|totalMinionsKilled|totalEnemyJungleMinionsKilled|visionScore|visionWardsBoughtInGame|wardsKilled|wardsPlaced|\n",
      "+-------------+--------------------+----------------+-------------+----+--------+------------+------------+------------+----------+----------+-------+----------------+--------------+----------------+--------------+-----+----------+-----------+-----------+-----+-----+-----+-----+-----+-----+-----+-------+----+-------+----------+----------+----------+----------+----------+----------+----------+----------+----------+----------+----------+----------+----------+----------+----------+----------+----------+---------+---------+---------+---------+---------+---------+---------+---------+---------+-----------+-----------+---------------------------+----------------+------------------+-----------------------------+-----------+-----------------------+-----------+-----------+\n",
      "|KR_6611804574|SKe4asP-w35dhowZk...|       포비 해리|          240|True| CLASSIC|        2111|         TOP|       Riven|        92|        18|      8|           False|         False|           False|         False|    9|         0|          0|          0| 6630| 3071| 3111| 1055| 3074| 3053| 3340|   5002|5008|   5008|      8010|      1267|         0|         0|      9111|      1510|       340|         0|      9105|        19|        20|         0|      8299|      1416|         0|         0|      8000|     8242|      116|        0|        0|     8473|     1165|        0|        0|     8400|         14|          4|                      36424|           44248|               240|                            4|         15|                      0|          0|         10|\n",
      "|KR_6611804574|DuCz0Zbk7HoMW9-Rc...|제일먼저이를닦자|           65|True| CLASSIC|        2111|      JUNGLE|      RekSai|       421|        18|     18|           False|          True|           False|         False|   14|         0|          0|          0| 3026| 6631| 3134| 3047| 3071| 3156| 3364|   5002|5008|   5005|      8010|       821|         0|         0|      9111|      2566|       640|         0|      9105|         9|        50|         0|      8014|       841|         0|         0|      8000|     8347|        0|        0|        0|     8321|        3|        0|        0|     8300|         11|          4|                      36867|           41418|                35|                            2|         41|                      7|          8|          8|\n",
      "|KR_6611804574|lyf8SYUh3vYrlDtif...|  트롤러의플레이|          160|True| CLASSIC|        2111|      MIDDLE|FiddleSticks|         9|        18|     17|            True|         False|           False|         False|   10|         0|          0|          0| 3020| 6653| 3157| 1058| 1058| 4637| 3330|   5003|5008|   5008|      8229|      3502|         0|         0|      8226|       250|       899|         0|      8210|        36|         0|         0|      8237|      1031|         0|         0|      8200|     8106|        5|        0|        0|     8126|     1105|        0|        0|     8100|         12|          4|                      50085|           35320|               181|                            0|         51|                      4|          7|          4|\n",
      "|KR_6611804574|LqU8KKd8dr9tVr6Q6...|  원딜은힘이없엉|          625|True| CLASSIC|        2111|      BOTTOM|    Aphelios|       523|        17|      8|           False|         False|           False|         False|   12|         0|          0|          0| 6671| 3026| 6676| 3036| 1037| 3006| 3363|   5002|5008|   5005|      8021|      3120|      2533|         0|      9101|      5418|      5479|         0|      9103|        20|        50|         0|      8017|      1884|         0|         0|      8000|     8233|       18|       20|        0|     8236|       28|        0|        0|     8200|          6|          4|                      31745|           23395|               211|                            0|         37|                      5|          8|         14|\n",
      "|KR_6611804574|KqbKdFAtc5onziY4K...|        피자천사|          491|True| CLASSIC|        2111|     UTILITY|     Alistar|        12|        16|     22|           False|         False|           False|         False|    1|         0|          0|          0| 3047| 3001| 3860| 3050| 1057| 4638| 3364|   5002|5002|   5007|      8351|        90|      1097|         0|      8306|         2|         0|         0|      8316|       427|         0|         0|      8347|         0|         0|         0|      8300|     8473|      495|        0|        0|     8242|       89|        0|        0|     8400|          4|         14|                       9370|           31659|                31|                            0|         94|                      7|          9|         36|\n",
      "+-------------+--------------------+----------------+-------------+----+--------+------------+------------+------------+----------+----------+-------+----------------+--------------+----------------+--------------+-----+----------+-----------+-----------+-----+-----+-----+-----+-----+-----+-----+-------+----+-------+----------+----------+----------+----------+----------+----------+----------+----------+----------+----------+----------+----------+----------+----------+----------+----------+----------+---------+---------+---------+---------+---------+---------+---------+---------+---------+-----------+-----------+---------------------------+----------------+------------------+-----------------------------+-----------+-----------------------+-----------+-----------+\n",
      "only showing top 5 rows\n",
      "\n"
     ]
    }
   ],
   "source": [
    "G3WinnerDataFrame = spark.read.option(\"delimiter\", \",\").csv(\"./Rank_winner_gold3.csv\", encoding=\"UTF-8\", header=True)\n",
    "G3WinnerDataFrame.show(5)"
   ]
  },
  {
   "cell_type": "markdown",
   "id": "dcc1fc3a-e6f6-445b-b136-cd52b914449d",
   "metadata": {},
   "source": [
    "## - csv의 파일(gold3 경기에서 승리를 한 유저들의 게임내 정보)"
   ]
  },
  {
   "cell_type": "markdown",
   "id": "9338b714-34a8-4f34-b576-9bf53e83f2d7",
   "metadata": {},
   "source": [
    "# 2. 데이터 전처리"
   ]
  },
  {
   "cell_type": "code",
   "execution_count": 24,
   "id": "a6c3c081-e0a5-4d44-8d11-82d41c2c8c49",
   "metadata": {
    "scrolled": true
   },
   "outputs": [
    {
     "name": "stdout",
     "output_type": "stream",
     "text": [
      "+-------------+----------------+------------+------------+------------+----------+-------+--------------+--------------+-----+---------------------------+----------------+------------------+-----------------------------+-----------+\n",
      "|      matchId|    summonerName|gameDuration|teamPosition|championName|champLevel|assists|firstBloodKill|firstTowerKill|kills|totalDamageDealtToChampions|totalDamageTaken|totalMinionsKilled|totalEnemyJungleMinionsKilled|visionScore|\n",
      "+-------------+----------------+------------+------------+------------+----------+-------+--------------+--------------+-----+---------------------------+----------------+------------------+-----------------------------+-----------+\n",
      "|KR_6611804574|       포비 해리|        2111|         TOP|       Riven|        18|      8|         False|         False|    9|                      36424|           44248|               240|                            4|         15|\n",
      "|KR_6611804574|제일먼저이를닦자|        2111|      JUNGLE|      RekSai|        18|     18|          True|         False|   14|                      36867|           41418|                35|                            2|         41|\n",
      "|KR_6611804574|  트롤러의플레이|        2111|      MIDDLE|FiddleSticks|        18|     17|         False|         False|   10|                      50085|           35320|               181|                            0|         51|\n",
      "|KR_6611804574|  원딜은힘이없엉|        2111|      BOTTOM|    Aphelios|        17|      8|         False|         False|   12|                      31745|           23395|               211|                            0|         37|\n",
      "|KR_6611804574|        피자천사|        2111|     UTILITY|     Alistar|        16|     22|         False|         False|    1|                       9370|           31659|                31|                            0|         94|\n",
      "+-------------+----------------+------------+------------+------------+----------+-------+--------------+--------------+-----+---------------------------+----------------+------------------+-----------------------------+-----------+\n",
      "only showing top 5 rows\n",
      "\n"
     ]
    }
   ],
   "source": [
    "G3WinnerDataFrame1 = G3WinnerDataFrame.drop(\"firstBloodAssist\",\"firstTowerAssist\",\"quadraKills\",\"pentaKills\",\"item0\",\"item1\",\"item2\",\"item3\",\"item4\",\"item5\",\"item6\",\"tripleKills\",\"puuid\",\"summonerLevel\",\"win\",\"gameMode\",\"championId\",\"defense\",\"flex\",\"offense\",\"prim1_perk\",\"prim1_var1\",\"prim1_var2\",\"prim1_var3\",\"prim2_perk\",\"prim2_var1\",\"prim2_var2\",\"prim2_var3\",\"prim3_perk\",\"prim3_var1\",\"prim3_var2\",\"prim3_var3\",\"prim4_perk\",\"prim4_var1\",\"prim4_var2\",\"prim4_var3\",\"prim_style\",\"sub1_perk\",\"sub1_var1\",\"sub1_var2\",\"sub1_var3\",\"sub2_perk\",\"sub2_var1\",\"sub2_var2\",\"sub2_var3\",\"sub_style\",\"summoner1Id\",\"summoner2Id\",\"visionWardsBoughtInGame\",\"wardsKilled\",\"wardsPlaced\")\n",
    "G3WinnerDataFrame1.show(5)"
   ]
  },
  {
   "cell_type": "markdown",
   "id": "d8c34c1f-7ec2-45f3-ba0c-b0412b221d23",
   "metadata": {},
   "source": [
    "## - 소규모 분석에 필요하지 않거나 번호id로 지금 당장 확인할수 없는 컬럼들 삭제"
   ]
  },
  {
   "cell_type": "code",
   "execution_count": 58,
   "id": "1d0ac92c-3647-4677-88b3-49d5318c647d",
   "metadata": {},
   "outputs": [
    {
     "name": "stdout",
     "output_type": "stream",
     "text": [
      "+-------------+----------------+------------+------------+------------+----------+-------+--------------+--------------+-----+-----------+----------------+-------------+------------+-----------+\n",
      "|      matchId|    summonerName|gameDuration|teamPosition|championName|champLevel|assists|firstBloodKill|firstTowerKill|kills|DealtDamage|totalDamageTaken|MinionsKilled|jungleMinion|visionScore|\n",
      "+-------------+----------------+------------+------------+------------+----------+-------+--------------+--------------+-----+-----------+----------------+-------------+------------+-----------+\n",
      "|KR_6611804574|       포비 해리|        2111|         TOP|       Riven|        18|      8|         False|         False|    9|      36424|           44248|          240|           4|         15|\n",
      "|KR_6611804574|제일먼저이를닦자|        2111|      JUNGLE|      RekSai|        18|     18|          True|         False|   14|      36867|           41418|           35|           2|         41|\n",
      "|KR_6611804574|  트롤러의플레이|        2111|      MIDDLE|FiddleSticks|        18|     17|         False|         False|   10|      50085|           35320|          181|           0|         51|\n",
      "|KR_6611804574|  원딜은힘이없엉|        2111|      BOTTOM|    Aphelios|        17|      8|         False|         False|   12|      31745|           23395|          211|           0|         37|\n",
      "|KR_6611804574|        피자천사|        2111|     UTILITY|     Alistar|        16|     22|         False|         False|    1|       9370|           31659|           31|           0|         94|\n",
      "|KR_6671461311|        cucunang|        1837|         TOP|       Riven|        18|      7|         False|          True|   17|      40811|           37342|          222|           5|         15|\n",
      "|KR_6671461311|    친구야잘해봐|        1837|      JUNGLE|       Viego|        16|     10|         False|         False|    7|      19398|           29014|           36|          13|         37|\n",
      "|KR_6671461311|          준마니|        1837|      MIDDLE|       Sylas|        15|     17|         False|         False|    6|      27054|           41494|          115|           0|         32|\n",
      "|KR_6671461311|     슈퍼빌런 진|        1837|      BOTTOM|        Jhin|        15|      8|          True|         False|    7|      24033|           24529|          195|           4|         23|\n",
      "|KR_6671461311|           Ssiho|        1837|     UTILITY|      Xerath|        14|     16|         False|         False|    5|      18446|           16290|           17|           2|         67|\n",
      "+-------------+----------------+------------+------------+------------+----------+-------+--------------+--------------+-----+-----------+----------------+-------------+------------+-----------+\n",
      "only showing top 10 rows\n",
      "\n"
     ]
    }
   ],
   "source": [
    "G3WinnerDataFrame1 = G3WinnerDataFrame1\\\n",
    "    .withColumnRenamed(\"totalDamageDealtToChampions\",\"DealtDamage\")\\\n",
    "    .withColumnRenamed(\"totalEnemyJungleMinionsKilled\",\"jungleMinion\")\\\n",
    "    .withColumnRenamed(\"totalMinionsKilled\",\"MinionsKilled\")\n",
    "G3WinnerDataFrame1.show(10)"
   ]
  },
  {
   "cell_type": "markdown",
   "id": "f1c79059-07b3-4406-b829-868e5a8921d5",
   "metadata": {},
   "source": [
    "## - 테이블의 형태를 유지하기 위하여 불필요하게 긴 문자열 길이 수정\n",
    "## 현재 가져온 데이터에 아군jungle 몹 cs가 나와있지 않아 부득이하게 표현을 못하였음"
   ]
  },
  {
   "cell_type": "code",
   "execution_count": 59,
   "id": "8d12c1c2-f7b0-48d4-8ccf-b9bc06ef74e3",
   "metadata": {},
   "outputs": [
    {
     "name": "stdout",
     "output_type": "stream",
     "text": [
      "+-------------+----------------+------------+------------+------------+----------+-------+--------------+--------------+-----+-----------+----------------+-------------+------------+-----------+---+\n",
      "|      matchId|    summonerName|gameDuration|teamPosition|championName|champLevel|assists|firstBloodKill|firstTowerKill|kills|DealtDamage|totalDamageTaken|MinionsKilled|jungleMinion|visionScore| cs|\n",
      "+-------------+----------------+------------+------------+------------+----------+-------+--------------+--------------+-----+-----------+----------------+-------------+------------+-----------+---+\n",
      "|KR_6611804574|       포비 해리|        2111|         TOP|       Riven|        18|      8|         False|         False|    9|      36424|           44248|          240|           4|         15|244|\n",
      "|KR_6611804574|제일먼저이를닦자|        2111|      JUNGLE|      RekSai|        18|     18|          True|         False|   14|      36867|           41418|           35|           2|         41| 37|\n",
      "|KR_6611804574|  트롤러의플레이|        2111|      MIDDLE|FiddleSticks|        18|     17|         False|         False|   10|      50085|           35320|          181|           0|         51|181|\n",
      "|KR_6611804574|  원딜은힘이없엉|        2111|      BOTTOM|    Aphelios|        17|      8|         False|         False|   12|      31745|           23395|          211|           0|         37|211|\n",
      "|KR_6611804574|        피자천사|        2111|     UTILITY|     Alistar|        16|     22|         False|         False|    1|       9370|           31659|           31|           0|         94| 31|\n",
      "|KR_6671461311|        cucunang|        1837|         TOP|       Riven|        18|      7|         False|          True|   17|      40811|           37342|          222|           5|         15|227|\n",
      "|KR_6671461311|    친구야잘해봐|        1837|      JUNGLE|       Viego|        16|     10|         False|         False|    7|      19398|           29014|           36|          13|         37| 49|\n",
      "|KR_6671461311|          준마니|        1837|      MIDDLE|       Sylas|        15|     17|         False|         False|    6|      27054|           41494|          115|           0|         32|115|\n",
      "|KR_6671461311|     슈퍼빌런 진|        1837|      BOTTOM|        Jhin|        15|      8|          True|         False|    7|      24033|           24529|          195|           4|         23|199|\n",
      "|KR_6671461311|           Ssiho|        1837|     UTILITY|      Xerath|        14|     16|         False|         False|    5|      18446|           16290|           17|           2|         67| 19|\n",
      "|KR_6656716581|   일신동 더샤이|        1367|         TOP|        Sett|        13|      5|         False|         False|    2|      11244|           17866|          117|           0|         12|117|\n",
      "|KR_6656716581|     군산 정회장|        1367|      JUNGLE|    JarvanIV|        14|     19|         False|         False|    5|      13880|           14347|           19|          16|         25| 35|\n",
      "|KR_6656716581|     최악의 미드|        1367|      MIDDLE|       Yasuo|        14|      6|         False|         False|    4|      15410|           15441|          152|           2|         10|154|\n",
      "|KR_6656716581|          찌올림|        1367|      BOTTOM|       Kaisa|        13|      4|         False|         False|   19|      18436|            9128|          159|           0|         12|159|\n",
      "|KR_6656716581|        불륜남녀|        1367|     UTILITY|   Seraphine|        12|     22|         False|         False|    1|      12879|           11119|           13|           0|         42| 13|\n",
      "|KR_6677579728|        기믄졍졍|        2097|      BOTTOM|        Ashe|        15|     15|         False|         False|    6|      17294|           27651|          178|           0|         36|178|\n",
      "|KR_6677579728|    갈치냠냠쩝쩝|        2097|      JUNGLE|      Khazix|        18|     11|         False|         False|   11|      31039|           41665|           28|          88|         41|116|\n",
      "|KR_6677579728|  뇌지컬올라이너|        2097|      MIDDLE|    Katarina|        18|      7|         False|         False|   17|      32491|           23060|          202|           0|         15|202|\n",
      "|KR_6677579728|Blizzard kingdom|        2097|         TOP|      KSante|        18|     16|         False|         False|   15|      55410|           49075|          269|           0|         14|269|\n",
      "|KR_6677579728|           K도기|        2097|     UTILITY|        Lulu|        15|     22|          True|         False|    7|      11419|           16145|           19|           0|         92| 19|\n",
      "+-------------+----------------+------------+------------+------------+----------+-------+--------------+--------------+-----+-----------+----------------+-------------+------------+-----------+---+\n",
      "only showing top 20 rows\n",
      "\n"
     ]
    }
   ],
   "source": [
    "G3WinnerDataFrame2 = G3WinnerDataFrame1.withColumn(\"cs\", (col(\"MinionsKilled\").cast(IntegerType()) + col(\"jungleMinion\").cast(IntegerType())).cast(StringType()))\n",
    "G3WinnerDataFrame2.show()"
   ]
  },
  {
   "cell_type": "markdown",
   "id": "3d71914f-495b-4853-82f2-90b0c2aefcf0",
   "metadata": {},
   "source": [
    "## - minionkill과 jungleminionkill을 합쳐 cs를 만들어냄 각 컬럼을 정수형으로 합"
   ]
  },
  {
   "cell_type": "code",
   "execution_count": 61,
   "id": "43cf698e-1236-4651-bfc2-d5c7d79551b9",
   "metadata": {},
   "outputs": [
    {
     "name": "stdout",
     "output_type": "stream",
     "text": [
      "+-------------+----------------+------------+------------+----------+-------+--------------+--------------+-----+-----------+----------------+-------------+------------+-----------+---+-------+-------+\n",
      "|      matchId|    summonerName|teamPosition|championName|champLevel|assists|firstBloodKill|firstTowerKill|kills|DealtDamage|totalDamageTaken|MinionsKilled|jungleMinion|visionScore| cs|minutes|seconds|\n",
      "+-------------+----------------+------------+------------+----------+-------+--------------+--------------+-----+-----------+----------------+-------------+------------+-----------+---+-------+-------+\n",
      "|KR_6654070267|    말랑말랑요정|         TOP|        Yone|        18|     15|         False|         False|   12|      50705|           59890|          338|           8|         59|346|     55|   38.0|\n",
      "|KR_6654070267|          최수완|      JUNGLE|      LeeSin|        18|     29|         False|         False|   24|      53466|          105217|           56|          27|         68| 83|     55|   38.0|\n",
      "|KR_6654070267|      UlsanZZANG|      MIDDLE|        Ahri|        18|     27|         False|         False|    6|      50355|           39317|          290|           0|         39|290|     55|   38.0|\n",
      "|KR_6654070267|          안태욱|      BOTTOM|       Kaisa|        18|     23|         False|         False|   19|      72974|           49462|          270|           8|         49|278|     55|   38.0|\n",
      "|KR_6654070267|          울최미|     UTILITY|      Zilean|        18|     38|         False|         False|    3|      29925|           36445|           47|           0|        185| 47|     55|   38.0|\n",
      "|KR_6675632588|   엘리트 대학생|         TOP|   Gangplank|        18|     12|         False|         False|   14|      63732|           63942|          330|          24|         31|354|     51|   49.0|\n",
      "|KR_6675632588|            nofl|      JUNGLE|      RekSai|        18|     10|         False|         False|   16|      42107|           70917|          105|          10|         65|115|     51|   49.0|\n",
      "|KR_6675632588| 엘리트 남자친구|      MIDDLE|         Zed|        18|      4|         False|         False|   11|      52695|           47358|          385|           5|         22|390|     51|   49.0|\n",
      "|KR_6675632588|      피즈회무침|      BOTTOM| MissFortune|        18|     13|          True|         False|    4|      18635|           51975|          270|          14|         34|284|     51|   49.0|\n",
      "|KR_6675632588| 앗흥 쵸럭키다제|     UTILITY|       Amumu|        18|     17|         False|         False|    5|      23593|           59796|           64|           0|        109| 64|     51|   49.0|\n",
      "|KR_6673361930|  너무추워살려줘|         TOP|        Gwen|        18|      9|         False|         False|   13|      54040|           56077|          266|           8|         27|274|     50|   26.0|\n",
      "|KR_6673361930|        JUGKKING|      JUNGLE|      Khazix|        18|     11|         False|         False|    6|      32876|           64935|           14|          30|         48| 44|     50|   26.0|\n",
      "|KR_6673361930|북극지방에사는곰|      MIDDLE|     Taliyah|        18|      8|         False|         False|   11|      46422|           41051|          399|          25|         45|424|     50|   26.0|\n",
      "|KR_6673361930|          그림첵|      BOTTOM|      Ezreal|        18|     17|         False|         False|   13|      50738|           41110|          354|           2|         35|356|     50|   26.0|\n",
      "|KR_6673361930|      오늘은안가|     UTILITY|        Zyra|        17|     15|          True|         False|    3|      33761|           31653|           53|           1|        169| 54|     50|   26.0|\n",
      "|KR_6667847521|      킬딸전문러|     UTILITY|       Senna|        18|     19|         False|          True|    7|      36377|           37058|          131|          14|        125|145|     49|   56.0|\n",
      "|KR_6667847521|  보자마자녹인다|         TOP|    Malphite|        18|     13|         False|         False|    5|      32624|           50875|          230|           0|         35|230|     49|   56.0|\n",
      "|KR_6667847521|            ysdg|      JUNGLE|       Shaco|        18|      7|          True|         False|   31|      58128|           48558|           62|          59|         66|121|     49|   56.0|\n",
      "|KR_6667847521|          이시유|      MIDDLE|      Rumble|        18|     15|         False|         False|   16|      75787|           54348|          317|           3|         33|320|     49|   56.0|\n",
      "|KR_6667847521|       think1ing|      BOTTOM|      Ezreal|        18|     17|         False|         False|    7|      43429|           42435|          319|           1|         54|320|     49|   56.0|\n",
      "+-------------+----------------+------------+------------+----------+-------+--------------+--------------+-----+-----------+----------------+-------------+------------+-----------+---+-------+-------+\n",
      "only showing top 20 rows\n",
      "\n"
     ]
    }
   ],
   "source": [
    "G3WinnerDataFrame3 = G3WinnerDataFrame2\\\n",
    "    .withColumn(\"minutes\", expr(\"floor(gameDuration / 60)\"))\\\n",
    "    .withColumn(\"seconds\", expr(\"gameDuration % 60\"))\n",
    "G3WinnerDataFrame4 = G3WinnerDataFrame3.drop(\"gameDuration\")\n",
    "\n",
    "G3WinnerDataFrame5 = G3WinnerDataFrame4.sort(G3WinnerDataFrame4.minutes.desc())\n",
    "\n",
    "G3WinnerDataFrame5.show()"
   ]
  },
  {
   "cell_type": "markdown",
   "id": "17e4efbe-d5bb-4ecb-90aa-42ff42d8316b",
   "metadata": {},
   "source": [
    "## - gameduration을 분,초 로 나눠서 가장 게임 시간이 긴 순으로 표시"
   ]
  },
  {
   "cell_type": "code",
   "execution_count": 62,
   "id": "155bc129-e962-4588-ad81-ef71d87c7c29",
   "metadata": {},
   "outputs": [
    {
     "name": "stdout",
     "output_type": "stream",
     "text": [
      "+------------+------------+\n",
      "|teamPosition|jungleMinion|\n",
      "+------------+------------+\n",
      "|         TOP|           8|\n",
      "|      JUNGLE|          27|\n",
      "|      MIDDLE|           0|\n",
      "|      BOTTOM|           8|\n",
      "|     UTILITY|           0|\n",
      "|         TOP|          24|\n",
      "|      JUNGLE|          10|\n",
      "|      MIDDLE|           5|\n",
      "|      BOTTOM|          14|\n",
      "|     UTILITY|           0|\n",
      "|         TOP|           8|\n",
      "|      JUNGLE|          30|\n",
      "|      MIDDLE|          25|\n",
      "|      BOTTOM|           2|\n",
      "|     UTILITY|           1|\n",
      "|     UTILITY|          14|\n",
      "|         TOP|           0|\n",
      "|      JUNGLE|          59|\n",
      "|      MIDDLE|           3|\n",
      "|      BOTTOM|           1|\n",
      "+------------+------------+\n",
      "only showing top 20 rows\n",
      "\n"
     ]
    }
   ],
   "source": [
    "G3WinnerDataFrame6 = G3WinnerDataFrame5.select(G3WinnerDataFrame5.teamPosition,\n",
    "                                               G3WinnerDataFrame5.jungleMinion.cast(\"int\"))\n",
    "\n",
    "G3WinnerDataFrame6.show()"
   ]
  },
  {
   "cell_type": "code",
   "execution_count": 63,
   "id": "a4bb765e-e650-4f01-ad16-4b29535acedf",
   "metadata": {},
   "outputs": [
    {
     "name": "stdout",
     "output_type": "stream",
     "text": [
      "+-------+------------+-----------------+\n",
      "|summary|teamPosition|     jungleMinion|\n",
      "+-------+------------+-----------------+\n",
      "|  count|       19693|            20566|\n",
      "|   mean|        null|4.130992900904405|\n",
      "| stddev|        null|7.836243713807128|\n",
      "|    min|      BOTTOM|                0|\n",
      "|    max|     UTILITY|               88|\n",
      "+-------+------------+-----------------+\n",
      "\n"
     ]
    }
   ],
   "source": [
    "G3WinnerDataFrame6.describe().show()"
   ]
  },
  {
   "cell_type": "markdown",
   "id": "1476ae81-0cf7-4640-8d6e-9167b08e67a1",
   "metadata": {},
   "source": [
    "## - 라인과 적정글 미니언을 카운트하여 적 정글에 얼마나 많은 개입을 했는지 요약정보 출력\n",
    "## - 적정글 개입 평균, 표준편차, 최솟값, 최대값 확인"
   ]
  },
  {
   "cell_type": "code",
   "execution_count": 86,
   "id": "39c0f00b-aadd-467e-a0c6-ed8f829dfceb",
   "metadata": {
    "scrolled": true
   },
   "outputs": [
    {
     "name": "stdout",
     "output_type": "stream",
     "text": [
      "+-------+------------+-------------------+\n",
      "|   라인|상대정글견제|상대 정글 견제 능력|\n",
      "+-------+------------+-------------------+\n",
      "|    TOP|           8|               먹음|\n",
      "| JUNGLE|          27|             잘먹음|\n",
      "| MIDDLE|           0|           잘안먹음|\n",
      "| BOTTOM|           8|               먹음|\n",
      "|UTILITY|           0|           잘안먹음|\n",
      "|    TOP|          24|             잘먹음|\n",
      "| JUNGLE|          10|               먹음|\n",
      "| MIDDLE|           5|               먹음|\n",
      "| BOTTOM|          14|             잘먹음|\n",
      "|UTILITY|           0|           잘안먹음|\n",
      "|    TOP|           8|               먹음|\n",
      "| JUNGLE|          30|             잘먹음|\n",
      "| MIDDLE|          25|             잘먹음|\n",
      "| BOTTOM|           2|           잘안먹음|\n",
      "|UTILITY|           1|           잘안먹음|\n",
      "|    TOP|           0|           잘안먹음|\n",
      "| JUNGLE|          59|             잘먹음|\n",
      "| MIDDLE|           3|           잘안먹음|\n",
      "| BOTTOM|           1|           잘안먹음|\n",
      "|UTILITY|          14|             잘먹음|\n",
      "+-------+------------+-------------------+\n",
      "only showing top 20 rows\n",
      "\n"
     ]
    }
   ],
   "source": [
    "G3WinnerDataFrame7 = G3WinnerDataFrame6.select(G3WinnerDataFrame6.teamPosition.alias(\"라인\"), G3WinnerDataFrame6.jungleMinion.alias(\"상대정글견제\"),\n",
    "                          when(G3WinnerDataFrame6.jungleMinion > 13, \"잘먹음\").\n",
    "                          when((G3WinnerDataFrame6.jungleMinion <13) & (G3WinnerDataFrame6.jungleMinion > 4), \"먹음\").\n",
    "                          otherwise(\"잘안먹음\").alias(\"상대 정글 견제 능력\"))\n",
    "\n",
    "G3WinnerDataFrame7.show()"
   ]
  },
  {
   "cell_type": "markdown",
   "id": "8efa20d8-3ffb-47fa-b3f9-be60a0dffbc3",
   "metadata": {},
   "source": [
    "## - 상대정글 견제를 상대정글몹 먹은 양에 따라 구분하여 능력이라는 새로운 필드를 만들어 출력"
   ]
  },
  {
   "cell_type": "code",
   "execution_count": 87,
   "id": "22034c06-8c1e-45e4-b23d-d92964cb468d",
   "metadata": {},
   "outputs": [
    {
     "name": "stdout",
     "output_type": "stream",
     "text": [
      "+------+------------+-------------------+\n",
      "|  라인|상대정글견제|상대 정글 견제 능력|\n",
      "+------+------------+-------------------+\n",
      "|JUNGLE|          88|             잘먹음|\n",
      "|JUNGLE|          85|             잘먹음|\n",
      "|JUNGLE|          83|             잘먹음|\n",
      "|JUNGLE|          73|             잘먹음|\n",
      "|JUNGLE|          73|             잘먹음|\n",
      "|JUNGLE|          70|             잘먹음|\n",
      "|JUNGLE|          66|             잘먹음|\n",
      "|JUNGLE|          66|             잘먹음|\n",
      "|JUNGLE|          65|             잘먹음|\n",
      "|JUNGLE|          65|             잘먹음|\n",
      "|JUNGLE|          61|             잘먹음|\n",
      "|JUNGLE|          61|             잘먹음|\n",
      "|JUNGLE|          61|             잘먹음|\n",
      "|JUNGLE|          60|             잘먹음|\n",
      "|JUNGLE|          60|             잘먹음|\n",
      "|JUNGLE|          59|             잘먹음|\n",
      "|JUNGLE|          59|             잘먹음|\n",
      "|JUNGLE|          59|             잘먹음|\n",
      "|JUNGLE|          59|             잘먹음|\n",
      "|JUNGLE|          58|             잘먹음|\n",
      "+------+------------+-------------------+\n",
      "only showing top 20 rows\n",
      "\n"
     ]
    }
   ],
   "source": [
    "G3WinnerDataFrame7.sort(G3WinnerDataFrame7.상대정글견제.desc()).show()"
   ]
  },
  {
   "cell_type": "markdown",
   "id": "278ffc2f-b544-47c5-8ca7-d7790894db3d",
   "metadata": {},
   "source": [
    "## - 내림차순으로 정렬 5000개의 데이터중 상위 20명은 모두 정글러임\n",
    "##   아무래도 라이너보다 발이 풀려있다보니 상대 정글에 개입할 가능성이 크고\n",
    "##   같은 정글이다보니 이러한 결과가 나온것으로 확인됨 "
   ]
  },
  {
   "cell_type": "code",
   "execution_count": null,
   "id": "74d70c81-6913-4f34-8234-e8e6b0f5fe18",
   "metadata": {},
   "outputs": [],
   "source": []
  }
 ],
 "metadata": {
  "kernelspec": {
   "display_name": "Python 3 (ipykernel)",
   "language": "python",
   "name": "python3"
  },
  "language_info": {
   "codemirror_mode": {
    "name": "ipython",
    "version": 3
   },
   "file_extension": ".py",
   "mimetype": "text/x-python",
   "name": "python",
   "nbconvert_exporter": "python",
   "pygments_lexer": "ipython3",
   "version": "3.11.4"
  }
 },
 "nbformat": 4,
 "nbformat_minor": 5
}
